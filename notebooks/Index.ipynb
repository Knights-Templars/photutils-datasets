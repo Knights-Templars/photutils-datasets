{
 "metadata": {
  "name": "",
  "signature": "sha256:3aaa81e9c3206a4cdf875396091ff13c1d4086890667119ea8773e38f996c11d"
 },
 "nbformat": 3,
 "nbformat_minor": 0,
 "worksheets": [
  {
   "cells": [
    {
     "cell_type": "heading",
     "level": 1,
     "metadata": {},
     "source": [
      "IPython notebooks for photutils"
     ]
    },
    {
     "cell_type": "markdown",
     "metadata": {},
     "source": [
      "This directory contains [photutils](https://github.com/astropy/photutils) notebook-based documentation.\n",
      "\n",
      "This augments the [photutils Sphinx-based documentation](http://photutils.readthedocs.org/en/latest/photutils/index.html) with notebooks that contain interactive tutorials and examples.\n",
      "\n",
      "If you want to try out photutils quickly you should install `ipython` and `photutils` and then get the [photutils-datasets](https://github.com/astropy/photutils-datasets) repo (either via git or as a zip file) and then go to the `notebooks` folder in a terminal and type:\n",
      "\n",
      "    ipython notebook\n",
      "\n",
      "* [ccdproc and aperture photometry](ccdproc_photometry_example.ipynb): CCD data reduction with `ccdproc` followed by aperture photometry with `photutils`.\n",
      "* [prf photometry](PSFPhotometrySpitzer.ipynb): PRF estimation and PRF-fitting photometry with a Spitzer image"
     ]
    },
    {
     "cell_type": "heading",
     "level": 1,
     "metadata": {},
     "source": []
    }
   ],
   "metadata": {}
  }
 ]
}